{
  "cells": [
    {
      "cell_type": "markdown",
      "source": [
        "\n",
        " # Objetivo del laboratorio\n",
        " El objetivo de la presenta práctica es conocer el estándar de simulación de circuitos [SPICE](http://bwrcs.eecs.berkeley.edu/Classes/IcBook/SPICE) y realizar pequeñas simulaciones en corriente continua con el mismo. SPICE es una forma elegante y sencilla de codificar circuitos eléctricos de manera que puedan ser procesados por un ordenador. Mediante un sencillo lenguaje podemos definir resistencias, fuentes de alimentación, etc., las conexiones entre ellos y los resultados que deseamos obtener.\n",
        "\n",
        " # El estándar SPICE\n",
        " **SPICE** es una abreviabiación de *Simulation Program with Integrated Circtuit Emphasis*.\n",
        " Se trata básicamente de un método estándar para describir circuitos usando texto plano en\n",
        " lugar de una representación gráfica (o *esquemática*). A esta descripción en texto se\n",
        " la llama también **netlist** y básicamente se corresponde con la *lista* de los componentes del circuito y cómo estos están conectados entre sí, es decir, de los nodos de unión.\n",
        " Los ficheros netlist pueden tener extensiones `.cir`, `.net`, `.ckt`, ó `.sp` y es muy común encontrárselos con cualquiera de estas.\n",
        "\n",
        " Existen en el mercado muchas variantes (intérpretes) de Spice, aunque el original fue descrito\n",
        " en la Universidad de Berkeley. En la lista de intérpretes de Spice tenemos desde esfuerzos y proyectos comerciales hasta *open source* y regidos por distintas comunidades de usuarios y programadores.\n",
        "\n",
        "> **Pregunta:** Enumera todos los intérprete de Spice que puedas encontrar. Crea una tabla en Markdown con varias columnas (para el nombre, fabricante, versión actual, licencia y alguna característica sobresaliente). Aquí tienes un ejemplo del que puedes partir y seguir completando:\n",
        "\n",
        "| Intérprete | Licencia | Fabricante         | Características  |\n",
        "| ---------- | -------- | ------------------ | ---------------- |\n",
        "| Ahkab      | GPL      | Giuseppe Venturini | Basado en Python |\n",
        "|            |          |                    |                  |\n",
        "|            |          |                    |                  |\n",
        "\n",
        "\n",
        " > **Pregunta:** ¿Qué comparación puedes efectuar entre C y Spice como estándares (lenguajes) y sus respectivas implementaciones en software? ¿Qué implementaciones reales (compiladores) del lenguaje C conoces? \n",
        "\n",
        " ## Elementos de un netlist\n",
        " Como acabamos de comentar, un netlist se corresponde con la codificación de los elementos electrónicos de un circuito y las uniones entre los mismos. Veamos con más concreción qué partes y secciones lo componen.\n",
        "\n",
        " ## Comentarios\n",
        "\n",
        " La primera línea de un netlist se corresponderá siempre con un comentario. A partir de esta línea se pueden introducir más comentarios pero tienen que ir siempre precedidos de un `*`. Ejemplo:\n",
        " \n",
        " ```spice\n",
        " Mi primer circuito\n",
        " * Otro comentario\n",
        " * más comentarios\n",
        " *\n",
        " ```\n",
        "\n",
        " ## Dispositivos básicos de un circuito\n",
        " Los elementos de un netlist son los mismos que encontramos en cualquier circuito eléctrico sencillo,\n",
        " tales como resistencias, **condensadores**, **bobinas**, **interruptores**, **hilos** y **fuentes** de alimentación.\n",
        " Para distinguir uno de otro, se reserva una letra característica: `V` para fuentes de alimentación, `R` para resistencias, `C` para condensadores y `L` para bobinas. También es posible usar estas letras en su versión en minúscula (`r`, `v`, `c`, `l`, etc.).\n",
        " Después de esta letra característica se puede sufijar cualquier texto para diferenciar un elemento de otro (números, letras, palabras, etc.). Ejemplo:\n",
        "\n",
        " ```\n",
        " * Una resistencia\n",
        " R1\n",
        " *  Otra resistencia\n",
        " R2\n",
        " * Fuente de alimentación\n",
        " V\n",
        " * Un condensador\n",
        " Cprincipal\n",
        " ```\n",
        "\n",
        " ## Conexiones\n",
        " A continuación de indicar el elemento eléctrico, tenemos que informar a Spice cuáles\n",
        " son los puntos de unión tanto a un lado como al otro del elemento.\n",
        " Así es como Spice sabe qué está conectado a qué: porque comparten un **punto**\n",
        " (o **nodo**, aunque este término se reserva sobretodo a uniones de más de dos elementos)\n",
        " que hemos señalizado correctamente. Para nombrar nodos, lo mejor es emplear una\n",
        " numeración secuencial: 0...n. **La enumeración de los puntos de unión es completamente\n",
        " a nuestro criterio**.\n",
        "\n",
        " ```\n",
        " * Una resistencia\n",
        " * entre cables 0 y 1\n",
        " R1 0 1\n",
        " ```\n",
        "\n",
        " **Sólo es necesario seguir un criterio**: en el caso de una\n",
        " fuente de alimentación, el nodo que pondremos primero será\n",
        " aquel que está más cerca del *borne* positivo. Ejemplo:\n",
        "\n",
        " ```spice\n",
        " * Para una fuente indicamos primeramente conexión a nodo positivo.\n",
        " v 2 3 type=vdc vdc=1\n",
        " ```\n",
        " \n",
        "En el *caso de LTspice* no es necesario indicar los parámetros `type=vdc` y `vdc=X`, sino que si no se especifica nada, se supone que el último valor es el del voltaje a corriente continua:\n",
        "\n",
        "```spice\n",
        "* Especificación de una fuente de alimentación de 10 V en corrient continua en el caso de LTspice\n",
        "v 0 1 10\n",
        "```\n",
        "\n",
        "Aquí tienes un ejemplo gráfico de los componentes comentados justo arriba (resistencia y voltaje):\n",
        "\n",
        "![](https://raw.githubusercontent.com/pammacdotnet/spicelab/master/resistencia%20y%20pila%20con%20nodos.svg?sanitize=true)\n",
        "\n",
        " ## Unidades en SPICE\n",
        "\n",
        " Las unidades de las magnitudes características del circuito son siempre [unidades\n",
        " del Sistema Internacional](https://en.wikipedia.org/wiki/SI_electromagnetism_units) y no es necesario indicarlo explícitamente en el netlist.\n",
        "\n",
        " La forma de especificar múltiplos de estas cantidades es añadiendo una letra.\n",
        " Básicamente las que nos interesan y las que suelen aparecer mayoritariamente son `k` para \"kilo-,\" `m` para \"mili?\" y `u` para \"micro?\".\n",
        "\n",
        " > **Pregunta:** Crea una tabla en Markdown con todos los prefijos de múltiplos que puedas, su abreviatura y su equivalencia numérica.\n",
        "\n",
        " En el caso de las fuentes de alimentación hemos de especificar si se trata de corriente contínua (`vdc`) o alterna (`ac`).\n",
        "\n",
        " ```\n",
        " * Una resistencia de 5 Ohmios\n",
        " R2 1 0 5\n",
        " * Una pila de 10 Voltios (continua)\n",
        " V1 1 0 type=vdc vdc=10\n",
        " * Una resistencia de 5 kΩ\n",
        " RX 2 4 5k\n",
        " ```\n",
        "\n",
        " > **Pregunta**: ¿qué unidades del Sistema Internacional relacionadas con la asignatura –y los circuitos en general– conoces? Responde aquí mismo en una celda de Markdown con una tabla.\n",
        "\n",
        " ## Valores iniciales\n",
        "\n",
        " Aparecen justo al final de la definición del componente (`ic`). Suelen aplicarse principalmente con condensadores.\n",
        "\n",
        " ```\n",
        " * Una condensador inicialmente no cargado\n",
        " c 1 0 1u ic=0\n",
        " ```\n",
        "\n",
        " ## Fin del circuito\n",
        "\n",
        " El fin de la descripción de un netlist se especifica mediante el\n",
        " comando `.end`.\n",
        "\n",
        " ```spice\n",
        " * Mi primer circuito\n",
        " V 1 0 vdc=10 type=vdc\n",
        " R 1 0 5\n",
        " * Fin del circuito\n",
        " .end\n",
        " ```\n",
        "\n",
        "\n",
        " ## Comandos SPICE para circuitos en corriente continua\n",
        "\n",
        " Además de la descripción del circuito, hemos de indicar al intérprete de Spice qué\n",
        " tipo de análisis queremos realizar en sobre el mismo y cómo queremos presentar\n",
        " la salida de la simulación. Los comandos en Spice empiezan por un `.` y suelen\n",
        " escribirse justo al final del circuito, pero antes del comando `.end`.\n",
        "\n",
        " ```\n",
        "  Mi primer circuito\n",
        " * Aquí van los componentes\n",
        " R 1 0 6k\n",
        " ...\n",
        " * Comandos\n",
        " .op\n",
        " ...\n",
        " * Fin del circuito\n",
        " .end\n",
        " ```\n",
        "\n",
        " > **Pregunta**: Hasta lo que has visto del lenguaje Spice, ¿dentro de qué tipo o conjunto de lenguajes encajaría? ¿Funcionales? ¿Específicos de dominio? ¿Procedurales? ¿Estructurados? ¿Orientado a Objetos ¿Funcionales? Justifica tu respuesta. \n",
        "\n",
        " Veamos los principales comandos de simulación:\n",
        "\n",
        " - `.op` es el comando más sencillo que podemos emplear en. Devuelve el voltaje e intensidad en cada ramal y componente del circuito. Este comando no necesita parámetros.\n",
        " - `.dc` es uy parecido al comando `.op` pero nos permite cambiar el valor del voltaje de una fuente de alimentación en pasos consecutivos entre el valor A y el valor B.\n",
        " En el caso de que la fuente tuviera asignada ya un valor para su voltaje, este sería ignorado. Ejemplo:\n",
        "\n",
        "\n",
        " ```spice\n",
        " * Variamos el valor del voltaje\n",
        " * de la fuente \"v\" de 1 a 1000\n",
        " * en pasos de 5 voltios\n",
        " v 1 0 type=vdc vdc=10\n",
        " .dc v 1 start=1 stop=1000 step=20\n",
        " v2a 2 4 type=vdc vdc=9\n",
        " * Igual para v2a. Se ignora su voltaje de 9V\n",
        " .dc v2a start=0 stop=10 step=2\n",
        " ```\n",
        "\n",
        " - El comando `.tran` realiza un análisis en el tiempo de los parámetros del\n",
        " circuito. Si no se emplea la directiva `uic` (*use initial conditions*) o esta es igual a cero, este análisis se realiza desde el punto estable de funcionamiento del circuito hasta un tiempo `tfinal`.\n",
        " y en intervalos `tstep`. Si empleamos un varlor distinto para parámetro `uic`,\n",
        " entonces se hará uso de las condiciones iniciales definidas para cada componente\n",
        "  (típicamente `ic=X` en el caso de los condensadores, que da cuenta de la carga incial que estos pudieran tener).\n",
        "\n",
        "\n",
        " ```\n",
        " * Hacemos avanzar el tiempo entre\n",
        " * tinicial y tfinal en pasos tstep\n",
        " .tran tstart=X tstop=Y tstep=Z uic=0/1/2/3\n",
        " ```\n",
        "\n",
        " `X`, `Y` y `Z` tienen, evidentemente unidades de tiempo en el S.I. (segundos).\n",
        "\n",
        " > **Pregunta**: El parámetro `uic` puede tener varios valores y cada uno significa una cosa. Detállalo usando un celda Markdown y consultando la [documentación de Ahkab](https://buildmedia.readthedocs.org/media/pdf/ahkab/latest/ahkab.pdf).\n",
        "\n",
        " ## Intérprete SPICE que vamos a usar: Ahkab\n",
        " Tras un estándar siempre hay una o varias implementaciones. Ahkab no deja de ser una implmentación más en Python del estándar Spice.\n",
        " > **Pregunta:** Comenta las distintas implementaciones de lenguajes y estándares que conozcas. Hazlo usando una tabla en Markdown. [Aquí](https://www.markdownguide.org/extended-syntax/#tables) tienes un poco de ayuda (aunque antes ya se ha puesto el ejemplo de una tabla).\n",
        " \n",
        " > **Pregunta:** Describe brevemente este software (creador, objetivos, versiones, licencia, características principales, dependencias, etc.).\n",
        "\n",
        " # Trabajo práctico\n",
        " Muy bien, ahora toca definir circuitos y ejecutar simulaciones sobre los mismos gracias a Ahkab.\n",
        " ## Instalación de bibliotecas necesarias\n",
        " Si estás utilizando Anaconda, asegúrate de tener su entorno activado:\n",
        " \n",
        " ```cmd\n",
        " C:\\> conda activate base (en el caso de Windows)\n",
        " ```\n",
        " ó\n",
        "\n",
        " ```bash\n",
        " $ source /usr/local/Caskroom/miniconda/base/bin/activate (en el caso de macOS)\n",
        " ```\n",
        "\n",
        " En el caso de Windows tienes que tener en el PATH el directorio donde se encuentre el comando `conda` (visita la sección de [Environment Variables](https://superuser.com/questions/949560/how-do-i-set-system-environment-variables-in-windows-10) del [Panel de Control](https://www.digitalcitizen.life/8-ways-start-control-panel-windows-10)). Si has instalado Anaconda con [esta opción](https://docs.anaconda.com/_images/win-install-options.png) marcada, ya no tienes que preocuparte por ello. \n",
        "\n",
        " Ahora ya puedes instalar Ahkab:\n",
        "\n",
        " ```\n",
        " (base) $ pip install ahkab\n",
        " ```\n",
        "\n",
        " Como siempre, una vez instalado cualquier framework para Python, ya lo podemos utilizar, tanto desde el [REPL](https://en.wikipedia.org/wiki/Read–eval–print_loop) como desde un entorno Jupyter (Jupyter, [Jupyterlab](http://jupyterlab.readthedocs.io/en/stable/), VS Code o nteract). Recuerda que para usar el kernel Python (que viene con Anaconda) desde nteract debes seguir las instrucciones que se indican en su [documentación oficial](https://nteract.io/kernels).  "
      ],
      "metadata": {}
    },
    {
      "cell_type": "code",
      "source": [
        "import pylab as plt\n",
        "import ahkab"
      ],
      "outputs": [
        {
          "output_type": "stream",
          "name": "stderr",
          "text": [
            "W: Locale appears not set! please export LANG=\"en_US.UTF-8\" or equivalent, \n",
            "W: or ahkab's unicode support is broken.\n"
          ]
        }
      ],
      "execution_count": 1,
      "metadata": {}
    },
    {
      "cell_type": "markdown",
      "source": [
        "También vamos a importar Sympy para hacer algún cálculo más *manual* más adelante:"
      ],
      "metadata": {}
    },
    {
      "cell_type": "code",
      "source": [
        "import sympy.physics.units as u\n",
        "from sympy.physics.units import Dimension \n",
        "from sympy import * \n",
        "from sympy.physics.units import convert_to\n"
      ],
      "outputs": [],
      "execution_count": 2,
      "metadata": {}
    },
    {
      "cell_type": "markdown",
      "source": [
        " > **Pregunta:** ¿Qué es y para qué sirve PyLab?\n",
        "\n",
        " ## Circuitos sencillos para trabjar con la ley de Ohm:\n",
        "\n",
        " La *mal llamada* ley de Ohm reza que el voltaje (la *energía por unidad de carga*) que se disipa en un tramo de un circuito eléctrico es equivalente a la intensidad ($I$) de la corriente (es decir, cuántos electrones circulan por unidad de tiempo) por la resistencia del material ($R$) en el que está desplazándose dicha corriente. Matemáticamente:\n",
        "\n",
        " $$\n",
        " V = I\\cdot R\n",
        " $$\n",
        "\n",
        " > **Pregunta:** comprueba que la ecuación anterior está ajustada a nivel dimensional, es decir, que la naturaleza de lo que está a ambos lados del signo igual es la misma. Realiza este ejercicio con LaTeX en una celda Markdown.\n",
        "\n",
        " Comencemos con el circuito más sencillo posible de todos:\n",
        "\n",
        " ![](https://raw.githubusercontent.com/pammacdotnet/spicelab/master/primer%20circuito.svg?sanitize=true)\n",
        "\n",
        " Vamos a escribir su contenido (componentes o *netlist*) en disco con el nombre `circuito sencillo.sp`. Esto lo podemos lograr directamente y en tiempo real desde una celda de Jupyter gracias a los *comandos mágicos* de este entorno de programación literaria. En concreto vamos a utilizar `%%writefile` que guarda los contenidos de una celda como un fichero. "
      ],
      "metadata": {}
    },
    {
      "cell_type": "code",
      "source": [
        "%%writefile \"circuito sencillo.sp\"\n",
        "* Este es un circuito sencillo\n",
        "r1 1 0 100\n",
        "v1 0 1 type=vdc vdc=9\n",
        ".op\n",
        ".dc v1 start=0 stop=9 step=1\n",
        ".end\n"
      ],
      "outputs": [
        {
          "output_type": "stream",
          "name": "stdout",
          "text": [
            "Overwriting circuito sencillo.sp\n"
          ]
        }
      ],
      "execution_count": 3,
      "metadata": {}
    },
    {
      "cell_type": "markdown",
      "source": [
        "Ahora vamos a leer su descripción con Ahkab, interpretar y ejecutar las simulaciones que en él estén descritas."
      ],
      "metadata": {}
    },
    {
      "cell_type": "code",
      "source": [
        "circuito_y_análisis = ahkab.netlist_parser.parse_circuit('circuito sencillo.sp')"
      ],
      "outputs": [],
      "execution_count": 4,
      "metadata": {}
    },
    {
      "cell_type": "markdown",
      "source": [
        " Separamos la información del netlist (componentes) de los análisis (uno de tipo `op` y otro de tipo `dc`):"
      ],
      "metadata": {}
    },
    {
      "cell_type": "code",
      "source": [
        "circuito = circuito_y_análisis[0]\n",
        "análisis_en_netlist = circuito_y_análisis[1]\n",
        "lista_de_análisis = ahkab.netlist_parser.parse_analysis(circuito, análisis_en_netlist)\n",
        "print(lista_de_análisis)\n"
      ],
      "outputs": [
        {
          "output_type": "stream",
          "name": "stdout",
          "text": [
            "[{'type': 'op', 'guess': True, 'x0': None}, {'type': 'dc', 'source': 'v1', 'start': 0.0, 'stop': 9.0, 'step': 1.0, 'sweep_type': 'LIN'}]\n"
          ]
        }
      ],
      "execution_count": 5,
      "metadata": {}
    },
    {
      "cell_type": "markdown",
      "source": [
        "> **Pregunta:** ¿qué tipo de estructura de Python es `lista_de_análisis`?\n",
        "\n",
        " Las simulaciones que implican listas de datos (`.dc`, `.tran`, etc.) necesitan de un fichero temporal (`outfile`)\n",
        " donde almacenar los resultados. Para ello tenemos que definir la propiedad `outfile`."
      ],
      "metadata": {}
    },
    {
      "cell_type": "code",
      "source": [
        "lista_de_análisis[1]['outfile'] = \"simulación dc.tsv\"\n"
      ],
      "outputs": [],
      "execution_count": 6,
      "metadata": {}
    },
    {
      "cell_type": "markdown",
      "source": [
        " > **Pregunta:** escribe el código Python necesario para identificar qué análisis de `lista_de_análisis`\n",
        " son de tipo `dc` ó `tran` y sólo añadir la propiedad `outfile` en estos casos.\n",
        "Aquí tenéis un post de Stackoverflow con algo de [ayuda](https://stackoverflow.com/questions/49194107/how-to-find-index-of-a-dictionary-key-value-within-a-list-python).\n",
        " Un poco más de ayuda: el siguiente código (sí, una única línea) devuelve el índice de la simulación que es de tipo `dc`. Para simplificar un poco el ejercicio, suponed que, como máximo, habrá un análisis de tipo `tran` y/o `dc`."
      ],
      "metadata": {}
    },
    {
      "cell_type": "code",
      "source": [
        "[i for i, d in enumerate(lista_de_análisis) if \"dc\" in d.values()][0] "
      ],
      "outputs": [
        {
          "output_type": "execute_result",
          "execution_count": 7,
          "data": {
            "text/plain": [
              "1"
            ]
          },
          "metadata": {}
        }
      ],
      "execution_count": 7,
      "metadata": {}
    },
    {
      "cell_type": "markdown",
      "source": [
        "Una vez que ya hemos separado netlists de simulaciones, ahora ejecutamos las segundas (¡todas a la vez!) gracias al método `.run` de Ahkab: "
      ],
      "metadata": {}
    },
    {
      "cell_type": "code",
      "source": [
        "resultados = ahkab.run(circuito, lista_de_análisis)"
      ],
      "outputs": [
        {
          "output_type": "stream",
          "name": "stdout",
          "text": [
            "Starting op analysis:\n",
            "Calculating guess: skipped. (linear circuit)\n",
            "Solving...  -\b\\\b done.\n",
            "Solving...  -\b\\\b done.\n",
            "Difference check within margins.\n",
            "(Voltage: er=0.001, ea=1e-06, Current: er=0.001, ea=1e-09)\n",
            "Starting DC analysis:\n",
            "Solving...  -\b\\\b|\b/\b-\b\\\b|\b/\b-\b\\\b|\bdone\n"
          ]
        }
      ],
      "execution_count": 8,
      "metadata": {}
    },
    {
      "cell_type": "markdown",
      "source": [
        "### Resultados de la simulación `.dc`\n",
        "Imprimimos información sobre la simulación de tipo `.dc`:"
      ],
      "metadata": {}
    },
    {
      "cell_type": "code",
      "source": [
        "print(resultados['dc'])"
      ],
      "outputs": [
        {
          "output_type": "stream",
          "name": "stdout",
          "text": [
            "<DC simulation results for '* este es un circuito sencillo' (netlist circuito sencillo.sp). LIN sweep of V1 from 0 to 9 V. Run on 2019-12-05 19:08:19, data file simulación dc.tsv>\n"
          ]
        }
      ],
      "execution_count": 9,
      "metadata": {}
    },
    {
      "cell_type": "markdown",
      "source": [
        " Veamos qué variables podemos dibujar para el caso del análisis `dc`."
      ],
      "metadata": {}
    },
    {
      "cell_type": "code",
      "source": [
        "print(resultados['dc'].keys())"
      ],
      "outputs": [
        {
          "output_type": "stream",
          "name": "stdout",
          "text": [
            "['V1', 'V1', 'I(V1)']\n"
          ]
        }
      ],
      "execution_count": 10,
      "metadata": {}
    },
    {
      "cell_type": "markdown",
      "source": [
        "Y ahora graficamos el resultado del análisis anterior. Concretamente vamos a representar el voltaje en el borne 1 (`V1`) con respecto a la intensidad del circuito (`I(V1)`)."
      ],
      "metadata": {}
    },
    {
      "cell_type": "code",
      "source": [
        "figura = plt.figure()\n",
        "plt.title(\"Prueba DC\")\n",
        "plt.plot(resultados['dc']['V1'], resultados['dc']['I(V1)'], label=\"Voltaje (V1)\")"
      ],
      "outputs": [
        {
          "output_type": "execute_result",
          "execution_count": 11,
          "data": {
            "text/plain": [
              "[<matplotlib.lines.Line2D at 0x129460a20>]"
            ]
          },
          "metadata": {}
        },
        {
          "output_type": "display_data",
          "data": {
            "text/plain": [
              "<Figure size 432x288 with 1 Axes>"
            ],
            "image/png": "[encoded data removed]"
          },
          "metadata": {
            "needs_background": "light"
          }
        }
      ],
      "execution_count": 11,
      "metadata": {}
    },
    {
      "cell_type": "markdown",
      "source": [
        "> **Pregunta:** comenta la gráfica anterior… ¿qué estamos viendo exactamente? Etiqueta los ejes de la misma convenientemente. Así como ningún número puede *viajar* solo sin hacer referencia a su naturaleza, ninguna gráfica puede estar sin sus ejes convenientemente etiquetados. Algo de [ayuda](https://matplotlib.org/3.1.0/gallery/pyplots/fig_axes_labels_simple.html). ¿Qué biblioteca estamos usando para graficar? Una [pista](https://matplotlib.org)."
      ],
      "metadata": {}
    },
    {
      "cell_type": "markdown",
      "source": [
        " ### Resultados de la simulación `.op` \n",
        " El método `.results` nos devuelve un diccionario con los resultados de la simulación."
      ],
      "metadata": {}
    },
    {
      "cell_type": "code",
      "source": [
        "print(resultados['op'].results)"
      ],
      "outputs": [
        {
          "output_type": "stream",
          "name": "stdout",
          "text": [
            "{V1: -9.0, I(V1): -0.09}\n"
          ]
        }
      ],
      "execution_count": 12,
      "metadata": {}
    },
    {
      "cell_type": "markdown",
      "source": [
        " > **Pregunta:** justifica el sencillo resultado anterior (análisis `op`). Repite el cálculo con Sympy, atendiendo con mimo a las unidades y al formateo de los resultados (tal y como hemos visto en muchos otros notebooks en clase)."
      ],
      "metadata": {}
    },
    {
      "cell_type": "markdown",
      "source": [
        " ## Análisis de circuito con resistencias en serie"
      ],
      "metadata": {}
    },
    {
      "cell_type": "markdown",
      "source": [
        "Vamos a resolver (en punto de operación) el siguiente circuito:\n",
        "\n",
        "![](https://raw.githubusercontent.com/pammacdotnet/spicelab/master/resistencias%20en%20serie.svg?sanitize=true)\n",
        "\n",
        "Al igual que antes, grabamos el netlist en disco desde Jupyter gracias a la *palabra mágica* [`%writefile`](https://ipython.readthedocs.io/en/stable/interactive/magics.html#cellmagic-writefile). "
      ],
      "metadata": {}
    },
    {
      "cell_type": "code",
      "source": [
        "%%writefile \"resistencias en serie.net\"\n",
        "* circuito con tres resistencias en serie\n",
        "v1 1 0 type=vdc vdc=9\n",
        "R1 0 2 3k\n",
        "R2 2 3 10k  \n",
        "R3 3 1 5k\n",
        "* análisis del circuito\n",
        ".op\n",
        ".end"
      ],
      "outputs": [
        {
          "output_type": "stream",
          "name": "stdout",
          "text": [
            "Overwriting resistencias en serie.net\n"
          ]
        }
      ],
      "execution_count": 13,
      "metadata": {}
    },
    {
      "cell_type": "code",
      "source": [
        "circuito_y_análisis = ahkab.netlist_parser.parse_circuit('resistencias en serie.net')\n",
        "circuito = circuito_y_análisis[0]       \n",
        "análisis_en_netlist = circuito_y_análisis[1]\n",
        "lista_de_análisis = ahkab.netlist_parser.parse_analysis(circuito, análisis_en_netlist)\n",
        "resultados = ahkab.run(circuito, lista_de_análisis)"
      ],
      "outputs": [
        {
          "output_type": "stream",
          "name": "stdout",
          "text": [
            "Starting op analysis:\n",
            "Calculating guess: skipped. (linear circuit)\n",
            "Solving...  -\b\\\b done.\n",
            "Solving...  -\b\\\b done.\n",
            "Difference check within margins.\n",
            "(Voltage: er=0.001, ea=1e-06, Current: er=0.001, ea=1e-09)\n"
          ]
        }
      ],
      "execution_count": 14,
      "metadata": {}
    },
    {
      "cell_type": "markdown",
      "source": [
        "Imprimos los resultados del análisis `.op`:"
      ],
      "metadata": {}
    },
    {
      "cell_type": "code",
      "source": [
        "print(resultados['op'])"
      ],
      "outputs": [
        {
          "output_type": "stream",
          "name": "stdout",
          "text": [
            "OP simulation results for '* circuito con tres resistencias en serie'(netlist resistencias en serie.net).\n",
            "Run on 2019-12-05 19:08:19, data file None.\n",
            "Variable    Units      Value     Error    %\n",
            "----------  -------  -------  --------  ---\n",
            "V1          V         9       -9e-12      0\n",
            "V2          V         1.5     -1.5e-12    0\n",
            "V3          V         6.5     -6.5e-12    0\n",
            "I(V1)       A        -0.0005   0          0\n"
          ]
        }
      ],
      "execution_count": 15,
      "metadata": {}
    },
    {
      "cell_type": "markdown",
      "source": [
        "Los cantidades `V1`, `V2` y `V3` hacen referencia a los distintos valores del potencial que se ha perdido en cada uno de los bornes que has elegido para describir el netlist (`1`, `2`, etc.). Por ejemplo, podemos calcular el *potencial consumido* por la resistencia `R1` y verás que coincide con el del punto `V2` devuelto por Ahkab. "
      ],
      "metadata": {}
    },
    {
      "cell_type": "code",
      "source": [
        "r1 = 3E3*u.ohms\n",
        "intensidad_ahkab = resultados['op']['I(V1)'][0][0]*u.ampere\n",
        "v2 = convert_to(intensidad_ahkab*r1, [u.volt])\n",
        "pprint(v2)"
      ],
      "outputs": [
        {
          "output_type": "stream",
          "name": "stdout",
          "text": [
            "-1.5⋅volt\n"
          ]
        }
      ],
      "execution_count": 16,
      "metadata": {}
    },
    {
      "cell_type": "markdown",
      "source": [
        " > **Pregunta**: reproduce el resto de los valores anteriores de manera *manual* mediante Sympy (es decir, aplicando la ley de Ohm, pero con tun *toque computacional*). Te pongo aquí un ejemplo del que puedes partir… En él sólo calculo la corriente que circula por el circuito (sí, justo la que antes Ahkab ha devuelto de manera automática). Para ello necesito previamente computar la resistencia total (`r_total`). Faltarían el resto de resultados y convertirlos a unidades más *vistosas* (mediante la orden `convert_to` y `.n()`)."
      ],
      "metadata": {}
    },
    {
      "cell_type": "code",
      "source": [
        "v1 = 9*u.volts\n",
        "r1 = 3*u.kilo*u.ohms\n",
        "r2 = 10*u.kilo*u.ohms\n",
        "r3 = 5*u.kilo*u.ohms\n",
        "r_total = r1 + r2 + r3\n",
        "intensidad = u.Quantity('i')\n",
        "intensidad.set_dimension(u.current)\n",
        "ley_ohm = Eq(v1, intensidad*r_total)\n",
        "solucion_para_intensidad = solve(ley_ohm, intensidad)\n",
        "pprint(convert_to(solucion_para_intensidad[0], [u.ampere]).n(2))"
      ],
      "outputs": [
        {
          "output_type": "stream",
          "name": "stdout",
          "text": [
            "0.0005⋅ampere\n"
          ]
        }
      ],
      "execution_count": 17,
      "metadata": {}
    },
    {
      "cell_type": "markdown",
      "source": [
        "> **Pregunta**: Demuestra que se cumple la Ley de Kirchhoff de la energía en un circuito, es decir, que la suma de la energía suministrada por las fuentes (pilas) es igual a la consumida por las resistencias. Realiza la operación con Sympy.\n",
        "\n",
        "$$\n",
        "\\sum_i^N V_{\\text{fuentes}} = \\sum_j^M V_{\\text{consumido en resistencias}}\n",
        "$$\n",
        "\n",
        "Ten en cuenta que en este caso sólo hay una fuente."
      ],
      "metadata": {}
    },
    {
      "cell_type": "markdown",
      "source": [
        "## Análisis `.op` de circuitos con resistencias en paralelo\n",
        "\n",
        "Vamos a complicar un poco el trabajo añadiendo elementos en paralelo.\n",
        "\n",
        " > **Pregunta**: realiza los análisis `.op` de los siguientes circuitos.\n",
        " Para ello crea un netlist separado para cada uno donde queden correctamente descritos\n",
        " junto con la simulación (`.op`). Comenta los resultados que devuelve Ahkab (no imprimas los resultados de las simulaciones *sin más*).\n",
        "\n",
        " ![](https://raw.githubusercontent.com/pammacdotnet/spicelab/master/resistencias%20en%20paralelo.svg?sanitize=true)\n",
        "\n",
        " Aquí tienes el análisis del primer circuito, para que sirva de ejemplo:"
      ],
      "metadata": {}
    },
    {
      "cell_type": "code",
      "source": [
        "%%writefile \"resistencias en paralelo 1.cir\"\n",
        "* resistencias en paralelo\n",
        "vdd 0 1 vdc=12 type=vdc\n",
        "r2 1 2 1k\n",
        "r3 2 3 220\n",
        "r4 3 0 1.5k\n",
        "r5 2 0 470\n",
        ".op\n",
        ".end"
      ],
      "outputs": [
        {
          "output_type": "stream",
          "name": "stdout",
          "text": [
            "Overwriting resistencias en paralelo 1.cir\n"
          ]
        }
      ],
      "execution_count": 18,
      "metadata": {}
    },
    {
      "cell_type": "code",
      "source": [
        "circuito_y_análisis = ahkab.netlist_parser.parse_circuit('resistencias en paralelo 1.cir')\n",
        "circuito = circuito_y_análisis[0]       \n",
        "análisis_en_netlist = circuito_y_análisis[1]\n",
        "lista_de_análisis = ahkab.netlist_parser.parse_analysis(circuito, análisis_en_netlist)\n",
        "resultados = ahkab.run(circuito, lista_de_análisis)"
      ],
      "outputs": [
        {
          "output_type": "stream",
          "name": "stdout",
          "text": [
            "Starting op analysis:\n",
            "Calculating guess: skipped. (linear circuit)\n",
            "Solving...  -\b\\\b done.\n",
            "Solving...  -\b\\\b done.\n",
            "Difference check within margins.\n",
            "(Voltage: er=0.001, ea=1e-06, Current: er=0.001, ea=1e-09)\n"
          ]
        }
      ],
      "execution_count": 19,
      "metadata": {}
    },
    {
      "cell_type": "markdown",
      "source": [
        "Imprimimos los resultados del análisis `.op`. Como puedes comprobar, Ahkab sólo reporta la intensidad de corriente en las ramas en las que hay una pila (en este caso, la rama donde está la pila `VDD`)."
      ],
      "metadata": {}
    },
    {
      "cell_type": "code",
      "source": [
        "print(resultados['op'])"
      ],
      "outputs": [
        {
          "output_type": "stream",
          "name": "stdout",
          "text": [
            "OP simulation results for '* resistencias en paralelo'(netlist resistencias en paralelo 1.cir).\n",
            "Run on 2019-12-05 19:08:19, data file None.\n",
            "Variable    Units           Value        Error    %\n",
            "----------  -------  ------------  -----------  ---\n",
            "V1          V        -12           1.2e-11        0\n",
            "V2          V         -3.23533     3.23533e-12    0\n",
            "V3          V         -2.8215      2.82151e-12    0\n",
            "I(VDD)      A         -0.00876467  0              0\n"
          ]
        }
      ],
      "execution_count": 20,
      "metadata": {}
    },
    {
      "cell_type": "markdown",
      "source": [
        "> **Pregunta:** inserta dos *pilas virtuales* de 0 voltios en el resto de ramas del circuito (`Vdummy1` en la rama donde está `R5` y `Vdummy2` en la rama donde está `R3` y `R4`) para que Ahkab nos imprima también la corriente en las mismas. Es muy parecido al tercer circuito que tienes que resolver, donde `V1`, `V2` y `V3` tienen cero voltios. Estas *pilas nulas* son, a todos los efectos, *simples cables*. Una vez que ya tienes las corrientes en todas las ramas, comprueba que se cumple la Ley de Kirchhoff para las corrientes:\n",
        "\n",
        "$$\n",
        "I_{\\text{entrante}} = \\sum_i^{N} I_{\\text{salientes}}\n",
        "$$\n",
        "\n",
        "Repite lo mismo para los otros dos circuitos. Realiza además los cálculos con Sympy (recalcula los mismos voltajes que devuelve Ahkab a partir de la corriente que sí te devuelve la simulación) y cuidando de no olvidar las unidades. Recuerda que el objeto `resultados` alberga toda la información que necesitas de manera indexada. Ya han aparecido un ejemplo más arriba. Es decir: no *copies* los números *a mano*, trabaja de manera informáticamente elegante (usando la variable `resultados`). "
      ],
      "metadata": {}
    },
    {
      "cell_type": "markdown",
      "source": [
        " # Circuitos en DC que evolucionan con el tiempo"
      ],
      "metadata": {}
    },
    {
      "cell_type": "markdown",
      "source": [
        " ## Carga de un condensador\n",
        " Vamos a ver qué le pasa a un circuito de corriente continua cuando tiene un condensador\n",
        " en serie.\n",
        "\n",
        " ![](https://raw.githubusercontent.com/pammacdotnet/spicelab/master/condensador%20en%20continua.svg?sanitize=true)\n",
        "\n",
        " Al igual que antes, primero guardamos el circuito en un netlist externo:"
      ],
      "metadata": {}
    },
    {
      "cell_type": "code",
      "source": [
        "%%writefile \"condensador en continua.ckt\"\n",
        "* Carga condensador\n",
        "v1 0 1 type=vdc vdc=6\n",
        "r1 1 2 1k\n",
        "c1 2 0 1m ic=0\n",
        ".op\n",
        ".tran tstep=0.1 tstop=8 uic=0\n",
        ".end"
      ],
      "outputs": [
        {
          "output_type": "stream",
          "name": "stdout",
          "text": [
            "Overwriting condensador en continua.ckt\n"
          ]
        }
      ],
      "execution_count": 21,
      "metadata": {}
    },
    {
      "cell_type": "markdown",
      "source": [
        "> **Pregunta:** ¿qué significa el parámetro `ic=0`? ¿qué perseguimos con un análisis de tipo `.tran`?\n",
        "\n",
        "Leamos el circuito:"
      ],
      "metadata": {}
    },
    {
      "cell_type": "code",
      "source": [
        "circuito_y_análisis = ahkab.netlist_parser.parse_circuit(\"condensador en continua.ckt\")"
      ],
      "outputs": [],
      "execution_count": 22,
      "metadata": {}
    },
    {
      "cell_type": "markdown",
      "source": [
        " Separamos el netlist de los análisis y asignamos un fichero de almacenamiento de datos (`outfile`):"
      ],
      "metadata": {}
    },
    {
      "cell_type": "code",
      "source": [
        "circuito = circuito_y_análisis[0]\n",
        "análisis_en_netlist = circuito_y_análisis[1]\n",
        "lista_de_análisis = ahkab.netlist_parser.parse_analysis(circuito, análisis_en_netlist)\n",
        "lista_de_análisis[1]['outfile'] = \"simulación tran.tsv\""
      ],
      "outputs": [],
      "execution_count": 23,
      "metadata": {}
    },
    {
      "cell_type": "markdown",
      "source": [
        " Ejecutamos la simulación:"
      ],
      "metadata": {}
    },
    {
      "cell_type": "code",
      "source": [
        "resultados = ahkab.run(circuito, lista_de_análisis)\n",
        "print(resultados['op'])\n",
        "#print(resultados['tran'].keys())"
      ],
      "outputs": [
        {
          "output_type": "stream",
          "name": "stdout",
          "text": [
            "Starting op analysis:\n",
            "Calculating guess: skipped. (linear circuit)\n",
            "Solving...  -\b\\\b done.\n",
            "Solving...  -\b\\\b done.\n",
            "Difference check within margins.\n",
            "(Voltage: er=0.001, ea=1e-06, Current: er=0.001, ea=1e-09)\n",
            "Starting transient analysis: \n",
            "Selected method: TRAP\n",
            "Solving...  -\b\\\b|\b/\b-\b\\\b|\b/\b-\b\\\b|\b/\b-\b\\\b|\b/\b-\b\\\b|\b/\b-\b\\\b|\b/\b-\b\\\b|\b/\b-\b\\\b|\b/\b-\b\\\b|\b/\b-\b\\\b|\b/\b-\b\\\b|\b/\b-\b\\\b|\b/\b-\b\\\b|\b/\b-\b\\\b|\b/\b-\b\\\b|\b/\b-\b\\\b|\b/\b-\b\\\b|\b/\b-\b\\\b|\b/\b-\b\\\b|\b/\b-\b\\\b|\b/\b-\b\\\b|\b/\b-\b\\\b|\b/\b-\b\\\b|\b/\b-\bdone.\n",
            "Average time step: 0.0869565\n",
            "OP simulation results for '* carga condensador'(netlist condensador en continua.ckt).\n",
            "Run on 2019-12-05 19:08:20, data file None.\n",
            "Variable    Units      Value    Error    %\n",
            "----------  -------  -------  -------  ---\n",
            "V1          V             -6    6e-12    0\n",
            "V2          V             -6    6e-12    0\n",
            "I(V1)       A              0    0        0\n"
          ]
        }
      ],
      "execution_count": 24,
      "metadata": {}
    },
    {
      "cell_type": "markdown",
      "source": [
        " Dibujamos la gráfica de carga del condensador con el tiempo, centrándonos en la intensidad que circula por la pila. "
      ],
      "metadata": {}
    },
    {
      "cell_type": "code",
      "source": [
        "figura = plt.figure()\n",
        "plt.title(\"Carga de un condensador\")\n",
        "plt.plot(resultados['tran']['T'], resultados['tran']['I(V1)'], label=\"Una etiqueta\")"
      ],
      "outputs": [
        {
          "output_type": "execute_result",
          "execution_count": 25,
          "data": {
            "text/plain": [
              "[<matplotlib.lines.Line2D at 0x1294f3ac8>]"
            ]
          },
          "metadata": {}
        },
        {
          "output_type": "display_data",
          "data": {
            "text/plain": [
              "<Figure size 432x288 with 1 Axes>"
            ],
            "image/png": "[encoded data removed]"
          },
          "metadata": {
            "needs_background": "light"
          }
        }
      ],
      "execution_count": 25,
      "metadata": {}
    },
    {
      "cell_type": "markdown",
      "source": [
        "> **Pregunta:** Etiqueta los ejes convenientemente y comenta la gráfica. Dibuja otra gráfica con el voltaje en el borne `V1`. ¿Por qué son *opuestas*? ¿Qué le ocurre al voltaje a medida que evoluciona el circuito en el tiempo? Dibuja las gráficas en un formato estándar de representación vectorial (SVG, por ejemplo). Algo de ayuda [aquí](https://ipython.readthedocs.io/en/stable/api/generated/IPython.display.html#IPython.display.set_matplotlib_formats). ¿Qué valores devuelve el análisis de tipo `.op`? Justifícalo."
      ],
      "metadata": {}
    },
    {
      "cell_type": "markdown",
      "source": [
        "## Carrera de condensadores\n",
        "\n",
        "Ahora tenemos un circuito con dos condensadores en paralelo: \n",
        "\n",
        "![](https://raw.githubusercontent.com/pammacdotnet/spicelab/master/condensadores%20en%20paralelo.svg?sanitize=true)\n",
        "\n",
        "> **Pregunta:** Crea el netlist de este circuito e identifica qué condensador se satura primero. Dibuja la evolución de la intensidad en ambas ramas de manera simultánea. [Aquí](https://matplotlib.org/gallery/api/two_scales.html) tienes un ejemplo de cómo se hace esto en Matplotlib. Recuerda que para que Ahkab nos devuelva la corriente en una rama, debe de estar presente una pila. Si es necesario, inserta pilas virtuales de valor nulo (cero voltios), tal y como hemos comentado antes. Grafica también los voltajes (en otra gráfica, pero que aparezcan juntos). "
      ],
      "metadata": {}
    }
  ],
  "metadata": {
    "pygments_lexer": "ipython3",
    "orig_nbformat": 2,
    "name": "python",
    "mimetype": "text/x-python",
    "npconvert_exporter": "python",
    "kernel_info": {
      "name": "python3"
    },
    "language_info": {
      "name": "python",
      "version": "3.7.3",
      "mimetype": "text/x-python",
      "codemirror_mode": {
        "name": "ipython",
        "version": 3
      },
      "pygments_lexer": "ipython3",
      "nbconvert_exporter": "python",
      "file_extension": ".py"
    },
    "version": 3,
    "kernelspec": {
      "name": "python3",
      "language": "python",
      "display_name": "Python 3"
    },
    "file_extension": ".py",
    "nteract": {
      "version": "0.15.0"
    }
  },
  "nbformat": 4,
  "nbformat_minor": 2
}